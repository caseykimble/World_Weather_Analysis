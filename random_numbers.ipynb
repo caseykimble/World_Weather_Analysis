{
 "cells": [
  {
   "cell_type": "code",
   "execution_count": 2,
   "id": "09082f62",
   "metadata": {},
   "outputs": [],
   "source": [
    "import random"
   ]
  },
  {
   "cell_type": "code",
   "execution_count": 3,
   "id": "407944b4",
   "metadata": {},
   "outputs": [
    {
     "data": {
      "text/plain": [
       "-71"
      ]
     },
     "execution_count": 3,
     "metadata": {},
     "output_type": "execute_result"
    }
   ],
   "source": [
    "random.randint(-90, 90)"
   ]
  },
  {
   "cell_type": "code",
   "execution_count": 4,
   "id": "fde9769b",
   "metadata": {},
   "outputs": [
    {
     "data": {
      "text/plain": [
       "0.331616716565141"
      ]
     },
     "execution_count": 4,
     "metadata": {},
     "output_type": "execute_result"
    }
   ],
   "source": [
    "random.random()"
   ]
  },
  {
   "cell_type": "code",
   "execution_count": 5,
   "id": "38a94c8b",
   "metadata": {},
   "outputs": [
    {
     "data": {
      "text/plain": [
       "12.495475800151656"
      ]
     },
     "execution_count": 5,
     "metadata": {},
     "output_type": "execute_result"
    }
   ],
   "source": [
    "random_number = random.randint(-90,89) + random.random()\n",
    "\n",
    "random_number"
   ]
  },
  {
   "cell_type": "code",
   "execution_count": 8,
   "id": "e7f49200",
   "metadata": {},
   "outputs": [
    {
     "data": {
      "text/plain": [
       "[20.33715293003855,\n",
       " 69.40063907610259,\n",
       " 84.20869096807805,\n",
       " -57.79146813580273,\n",
       " 62.68401290837926,\n",
       " 67.18681984613556,\n",
       " -8.568713246628423,\n",
       " -80.04024003649454,\n",
       " 73.06144041333337,\n",
       " 54.64438928279034]"
      ]
     },
     "execution_count": 8,
     "metadata": {},
     "output_type": "execute_result"
    }
   ],
   "source": [
    "x = 1\n",
    "\n",
    "latitudes = []\n",
    "\n",
    "while x < 11:\n",
    "        \n",
    "        random_lat = random.randint(-89, 90) + random.random()\n",
    "        \n",
    "        latitudes.append(random_lat)\n",
    "        \n",
    "        x += 1\n",
    "        \n",
    "latitudes"
   ]
  },
  {
   "cell_type": "code",
   "execution_count": 9,
   "id": "d1cb0990",
   "metadata": {},
   "outputs": [
    {
     "data": {
      "text/plain": [
       "-4"
      ]
     },
     "execution_count": 9,
     "metadata": {},
     "output_type": "execute_result"
    }
   ],
   "source": [
    "random.randrange (-90, 90, step=1)"
   ]
  },
  {
   "cell_type": "code",
   "execution_count": 10,
   "id": "1cb2c206",
   "metadata": {},
   "outputs": [
    {
     "data": {
      "text/plain": [
       "75"
      ]
     },
     "execution_count": 10,
     "metadata": {},
     "output_type": "execute_result"
    }
   ],
   "source": [
    "random.randrange (-90, 90, step=3)"
   ]
  },
  {
   "cell_type": "code",
   "execution_count": 11,
   "id": "617e3903",
   "metadata": {},
   "outputs": [
    {
     "data": {
      "text/plain": [
       "1.382693318314935"
      ]
     },
     "execution_count": 11,
     "metadata": {},
     "output_type": "execute_result"
    }
   ],
   "source": [
    "random.uniform(-90, 90)"
   ]
  },
  {
   "cell_type": "code",
   "execution_count": 12,
   "id": "c528f765",
   "metadata": {},
   "outputs": [],
   "source": [
    "# Import the NumPy module\n",
    "\n",
    "import numpy as np"
   ]
  },
  {
   "cell_type": "code",
   "execution_count": 13,
   "id": "f7bbb59e",
   "metadata": {},
   "outputs": [
    {
     "data": {
      "text/plain": [
       "80.75839608363887"
      ]
     },
     "execution_count": 13,
     "metadata": {},
     "output_type": "execute_result"
    }
   ],
   "source": [
    "np.random.uniform(-90.000, 90.000)"
   ]
  },
  {
   "cell_type": "code",
   "execution_count": 14,
   "id": "fd7d31a4",
   "metadata": {},
   "outputs": [
    {
     "data": {
      "text/plain": [
       "array([-86.81733728,  56.16824475,  76.03689884,  46.16512045,\n",
       "       -66.86918087,  61.58215266,  85.98179004,  38.90759564,\n",
       "         5.50550766,  10.63706597,  67.6216396 , -26.07436528,\n",
       "       -70.16269281,  59.60422096,  34.34883624, -52.80672342,\n",
       "        40.24595756, -44.1704372 , -55.64153857,  78.19536388,\n",
       "        25.18175201,  33.87086599, -39.14915456,  21.98227604,\n",
       "        68.05088635,  64.36996396, -26.9070054 ,  24.72620758,\n",
       "        56.57197038, -50.18572774, -18.76674222, -82.5050515 ,\n",
       "        72.46353138,  11.36408893, -88.08860207,   3.35988043,\n",
       "        89.40249556, -54.58727428,  71.30118721,  -3.79850055,\n",
       "        65.04368913,   9.78872003, -25.09518054,  57.42741576,\n",
       "       -15.94041653,  28.89307637, -63.94699313,   4.78966016,\n",
       "       -58.95855863, -84.08161581])"
      ]
     },
     "execution_count": 14,
     "metadata": {},
     "output_type": "execute_result"
    }
   ],
   "source": [
    "# Use random.uniform with size parameter\n",
    "\n",
    "np.random.uniform(-90.000, 90.000, size = 50)"
   ]
  },
  {
   "cell_type": "code",
   "execution_count": 15,
   "id": "37cd0d5d",
   "metadata": {},
   "outputs": [],
   "source": [
    "# Import timeit\n",
    "\n",
    "import timeit"
   ]
  },
  {
   "cell_type": "code",
   "execution_count": 16,
   "id": "fb925251",
   "metadata": {},
   "outputs": [
    {
     "name": "stdout",
     "output_type": "stream",
     "text": [
      "11.9 µs ± 64.8 ns per loop (mean ± std. dev. of 7 runs, 100000 loops each)\n"
     ]
    }
   ],
   "source": [
    "# Test timeit\n",
    "\n",
    "%timeit np.random.uniform(-90.000, 90.000, size = 1500)"
   ]
  },
  {
   "cell_type": "code",
   "execution_count": 17,
   "id": "77ad74de",
   "metadata": {},
   "outputs": [
    {
     "name": "stdout",
     "output_type": "stream",
     "text": [
      "1.38 ms ± 13.4 µs per loop (mean ± std. dev. of 7 runs, 1000 loops each)\n"
     ]
    }
   ],
   "source": [
    "def latitudes(size):\n",
    "    \n",
    "    latitudes = []\n",
    "    \n",
    "    x = 0\n",
    "    \n",
    "    while x < (size):\n",
    "        \n",
    "        random_lat = random.randint(-90, 90) + random.random()\n",
    "        \n",
    "        latitudes.append(random_lat)\n",
    "        \n",
    "        x += 1\n",
    "        \n",
    "    return latitudes\n",
    "\n",
    "# Call the function with 1500.\n",
    "\n",
    "%timeit latitudes(1500)"
   ]
  },
  {
   "cell_type": "code",
   "execution_count": null,
   "id": "f730b414",
   "metadata": {},
   "outputs": [],
   "source": []
  }
 ],
 "metadata": {
  "kernelspec": {
   "display_name": "PythonData",
   "language": "python",
   "name": "pythondata"
  },
  "language_info": {
   "codemirror_mode": {
    "name": "ipython",
    "version": 3
   },
   "file_extension": ".py",
   "mimetype": "text/x-python",
   "name": "python",
   "nbconvert_exporter": "python",
   "pygments_lexer": "ipython3",
   "version": "3.7.13"
  }
 },
 "nbformat": 4,
 "nbformat_minor": 5
}
